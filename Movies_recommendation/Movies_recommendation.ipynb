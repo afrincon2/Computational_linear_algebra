{
 "cells": [
  {
   "cell_type": "code",
   "execution_count": 1,
   "metadata": {},
   "outputs": [],
   "source": [
    "from scipy.sparse.linalg import svds\n",
    "from scipy.sparse import coo_matrix\n",
    "from scipy.linalg import svd\n",
    "import numpy as np"
   ]
  },
  {
   "cell_type": "code",
   "execution_count": 2,
   "metadata": {},
   "outputs": [
    {
     "name": "stdout",
     "output_type": "stream",
     "text": [
      "['__abstractmethods__', '__class__', '__class_getitem__', '__contains__', '__del__', '__delattr__', '__dict__', '__dir__', '__doc__', '__enter__', '__eq__', '__exit__', '__format__', '__ge__', '__getattribute__', '__getitem__', '__gt__', '__hash__', '__init__', '__init_subclass__', '__iter__', '__le__', '__len__', '__lt__', '__module__', '__ne__', '__new__', '__reduce__', '__reduce_ex__', '__repr__', '__reversed__', '__setattr__', '__sizeof__', '__slots__', '__str__', '__subclasshook__', '__weakref__', '_abc_impl', '_files', 'allow_pickle', 'close', 'f', 'fid', 'files', 'get', 'items', 'iteritems', 'iterkeys', 'keys', 'pickle_kwargs', 'values', 'zip']\n"
     ]
    }
   ],
   "source": [
    "archive_title_npz = np.load('movie_titles.npz')\n",
    "archive_movie_npz= np.load('movie_recommend.npz')\n",
    "print(dir(archive_title_npz))"
   ]
  },
  {
   "cell_type": "code",
   "execution_count": 3,
   "metadata": {},
   "outputs": [
    {
     "data": {
      "text/plain": [
       "['titles']"
      ]
     },
     "execution_count": 3,
     "metadata": {},
     "output_type": "execute_result"
    }
   ],
   "source": [
    "archive_title_npz.files"
   ]
  },
  {
   "cell_type": "code",
   "execution_count": 4,
   "metadata": {},
   "outputs": [
    {
     "data": {
      "text/plain": [
       "array([\"One Flew Over the Cuckoo's Nest (1975)\",\n",
       "       'James and the Giant Peach (1996)', 'My Fair Lady (1964)', ...,\n",
       "       'Far and Away (1992)', 'Texas Chainsaw Massacre, The (1974)',\n",
       "       'Contact (1997)'], dtype='<U75')"
      ]
     },
     "execution_count": 4,
     "metadata": {},
     "output_type": "execute_result"
    }
   ],
   "source": [
    "archive_title_npz[\"titles\"]"
   ]
  },
  {
   "cell_type": "code",
   "execution_count": 5,
   "metadata": {},
   "outputs": [
    {
     "data": {
      "text/plain": [
       "['format', 'shape', 'data', 'row', 'col']"
      ]
     },
     "execution_count": 5,
     "metadata": {},
     "output_type": "execute_result"
    }
   ],
   "source": [
    "archive_movie_npz.files"
   ]
  },
  {
   "cell_type": "code",
   "execution_count": 6,
   "metadata": {},
   "outputs": [
    {
     "name": "stdout",
     "output_type": "stream",
     "text": [
      "['__abstractmethods__', '__class__', '__class_getitem__', '__contains__', '__del__', '__delattr__', '__dict__', '__dir__', '__doc__', '__enter__', '__eq__', '__exit__', '__format__', '__ge__', '__getattribute__', '__getitem__', '__gt__', '__hash__', '__init__', '__init_subclass__', '__iter__', '__le__', '__len__', '__lt__', '__module__', '__ne__', '__new__', '__reduce__', '__reduce_ex__', '__repr__', '__reversed__', '__setattr__', '__sizeof__', '__slots__', '__str__', '__subclasshook__', '__weakref__', '_abc_impl', '_files', 'allow_pickle', 'close', 'f', 'fid', 'files', 'get', 'items', 'iteritems', 'iterkeys', 'keys', 'pickle_kwargs', 'values', 'zip']\n"
     ]
    }
   ],
   "source": [
    "print(dir(archive_movie_npz))"
   ]
  },
  {
   "cell_type": "code",
   "execution_count": 7,
   "metadata": {},
   "outputs": [
    {
     "name": "stdout",
     "output_type": "stream",
     "text": [
      "(1000209,)\n",
      "[6040 3706]\n",
      "[   0    0    0 ... 6039 6039 6039]\n",
      "[   0   47  144 ... 3493 3508 3575]\n"
     ]
    }
   ],
   "source": [
    "print(archive_movie_npz[\"data\"].shape)\n",
    "archive_movie_npz[\"row\"].max()\n",
    "#archive_movie_npz[\"col\"].shape\n",
    "print(archive_movie_npz[\"shape\"])\n",
    "print(archive_movie_npz[\"row\"])\n",
    "print(archive_movie_npz[\"col\"])"
   ]
  },
  {
   "cell_type": "code",
   "execution_count": 8,
   "metadata": {},
   "outputs": [
    {
     "data": {
      "text/plain": [
       "(3706,)"
      ]
     },
     "execution_count": 8,
     "metadata": {},
     "output_type": "execute_result"
    }
   ],
   "source": [
    "archive_title_npz[\"titles\"].shape"
   ]
  },
  {
   "cell_type": "code",
   "execution_count": 10,
   "metadata": {},
   "outputs": [
    {
     "data": {
      "text/plain": [
       "array([6040, 3706])"
      ]
     },
     "execution_count": 10,
     "metadata": {},
     "output_type": "execute_result"
    }
   ],
   "source": [
    "archive_movie_npz[\"shape\"]"
   ]
  },
  {
   "cell_type": "code",
   "execution_count": 11,
   "metadata": {},
   "outputs": [
    {
     "data": {
      "text/plain": [
       "1000209"
      ]
     },
     "execution_count": 11,
     "metadata": {},
     "output_type": "execute_result"
    }
   ],
   "source": [
    "len(archive_movie_npz[\"data\"])"
   ]
  },
  {
   "cell_type": "code",
   "execution_count": 12,
   "metadata": {},
   "outputs": [],
   "source": [
    "\n",
    "# create matrix of users and movies\n",
    "matrix = coo_matrix((archive_movie_npz[\"data\"], (archive_movie_npz[\"row\"], archive_movie_npz[\"col\"])))\n",
    "matrix = matrix.toarray()\n",
    "\n",
    "# perform SVD on the matrix\n",
    "U, s, Vt = svd(matrix)\n",
    "U=U[:,:2]\n",
    "S=np.diag(s[:2])\n",
    "Vt=Vt[:2,:]\n",
    "\n",
    "# reconstruct the original matrix\n",
    "matrix_reconstructed = np.dot(np.dot(U, S), Vt)\n",
    "   "
   ]
  },
  {
   "cell_type": "code",
   "execution_count": 15,
   "metadata": {},
   "outputs": [
    {
     "data": {
      "text/plain": [
       "[{'user_id': 0,\n",
       "  'movies': [{'title': 'Deep Impact (1998)', 'predicted_rating': 0.8586035},\n",
       "   {'title': 'Sister Act (1992)', 'predicted_rating': 0.842173},\n",
       "   {'title': 'Galaxy Quest (1999)', 'predicted_rating': 0.7756178},\n",
       "   {'title': 'Apollo 13 (1995)', 'predicted_rating': 0.7715325},\n",
       "   {'title': 'Defending Your Life (1991)', 'predicted_rating': 0.76568615}]},\n",
       " {'user_id': 7,\n",
       "  'movies': [{'title': 'Sister Act (1992)', 'predicted_rating': 1.6896902},\n",
       "   {'title': 'Terminator, The (1984)', 'predicted_rating': 1.6832885},\n",
       "   {'title': 'Galaxy Quest (1999)', 'predicted_rating': 1.5296493},\n",
       "   {'title': 'Jerk, The (1979)', 'predicted_rating': 1.3875538},\n",
       "   {'title': 'Addams Family, The (1991)', 'predicted_rating': 1.3871839}]},\n",
       " {'user_id': 23,\n",
       "  'movies': [{'title': 'Sister Act (1992)', 'predicted_rating': 2.0870767},\n",
       "   {'title': 'Halloween (1978)', 'predicted_rating': 1.8688036},\n",
       "   {'title': 'Army of Darkness (1993)', 'predicted_rating': 1.6654663},\n",
       "   {'title': 'Addams Family, The (1991)', 'predicted_rating': 1.6634957},\n",
       "   {'title': 'Alice in Wonderland (1951)', 'predicted_rating': 1.6560086}]},\n",
       " {'user_id': 100,\n",
       "  'movies': [{'title': 'Amadeus (1984)', 'predicted_rating': 2.1255372},\n",
       "   {'title': 'Rosencrantz and Guildenstern Are Dead (1990)',\n",
       "    'predicted_rating': 1.8886715},\n",
       "   {'title': 'Philadelphia (1993)', 'predicted_rating': 1.8704969},\n",
       "   {'title': 'L.A. Confidential (1997)', 'predicted_rating': 1.8275908},\n",
       "   {'title': 'Red Violin, The (Le Violon rouge) (1998)',\n",
       "    'predicted_rating': 1.780721}]}]"
      ]
     },
     "execution_count": 15,
     "metadata": {},
     "output_type": "execute_result"
    }
   ],
   "source": [
    "def predict_users(user_ids):\n",
    "    recommended_movies = []\n",
    "    for user_id in user_ids:\n",
    "        user_ratings = matrix_reconstructed[user_id, :]\n",
    "        predicted_ratings = U[user_id] @ S @ Vt\n",
    "\n",
    "        # find unrated movies and recommend the top-rated ones\n",
    "        rated_movies = matrix[user_id, :].nonzero()[0]\n",
    "        unrated_movies = np.setdiff1d(np.arange(matrix.shape[1]), rated_movies)\n",
    "        sorted_indexes = np.argsort(predicted_ratings[unrated_movies])[::-1]\n",
    "        top_movies = unrated_movies[sorted_indexes][:5]\n",
    "\n",
    "        # add the recommended movies to the list\n",
    "        recommended_movies.append({\n",
    "            'user_id': user_id,\n",
    "            'movies': [\n",
    "                {\n",
    "                    'title': archive_title_npz[\"titles\"][movie_id],\n",
    "                    'predicted_rating': predicted_ratings[movie_id]\n",
    "                }\n",
    "                for movie_id in top_movies\n",
    "            ]\n",
    "        })\n",
    "\n",
    "    return recommended_movies\n",
    "predict_users([0,7,23,100])\n",
    "\n"
   ]
  }
 ],
 "metadata": {
  "kernelspec": {
   "display_name": "base",
   "language": "python",
   "name": "python3"
  },
  "language_info": {
   "codemirror_mode": {
    "name": "ipython",
    "version": 3
   },
   "file_extension": ".py",
   "mimetype": "text/x-python",
   "name": "python",
   "nbconvert_exporter": "python",
   "pygments_lexer": "ipython3",
   "version": "3.9.13"
  },
  "orig_nbformat": 4,
  "vscode": {
   "interpreter": {
    "hash": "eabfd7d19aaf8c028d2e706059a933caf1b2347856756c8557b9aeb79deceee2"
   }
  }
 },
 "nbformat": 4,
 "nbformat_minor": 2
}
