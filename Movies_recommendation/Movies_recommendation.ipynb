{
 "cells": [
  {
   "cell_type": "code",
   "execution_count": 1,
   "metadata": {},
   "outputs": [],
   "source": [
    "from scipy.sparse.linalg import svds\n",
    "from scipy.sparse import coo_matrix\n",
    "from scipy.linalg import svd\n",
    "import numpy as np"
   ]
  },
  {
   "cell_type": "code",
   "execution_count": 2,
   "metadata": {},
   "outputs": [
    {
     "name": "stdout",
     "output_type": "stream",
     "text": [
      "['__abstractmethods__', '__class__', '__class_getitem__', '__contains__', '__del__', '__delattr__', '__dict__', '__dir__', '__doc__', '__enter__', '__eq__', '__exit__', '__format__', '__ge__', '__getattribute__', '__getitem__', '__gt__', '__hash__', '__init__', '__init_subclass__', '__iter__', '__le__', '__len__', '__lt__', '__module__', '__ne__', '__new__', '__reduce__', '__reduce_ex__', '__repr__', '__reversed__', '__setattr__', '__sizeof__', '__slots__', '__str__', '__subclasshook__', '__weakref__', '_abc_impl', '_files', 'allow_pickle', 'close', 'f', 'fid', 'files', 'get', 'items', 'iteritems', 'iterkeys', 'keys', 'pickle_kwargs', 'values', 'zip']\n"
     ]
    }
   ],
   "source": [
    "archive_title_npz = np.load('movie_titles.npz')\n",
    "archive_movie_npz= np.load('movie_recommend.npz')\n",
    "print(dir(archive_title_npz))"
   ]
  },
  {
   "cell_type": "code",
   "execution_count": 3,
   "metadata": {},
   "outputs": [
    {
     "data": {
      "text/plain": [
       "['titles']"
      ]
     },
     "execution_count": 3,
     "metadata": {},
     "output_type": "execute_result"
    }
   ],
   "source": [
    "archive_title_npz.files"
   ]
  },
  {
   "cell_type": "code",
   "execution_count": 4,
   "metadata": {},
   "outputs": [
    {
     "data": {
      "text/plain": [
       "array([\"One Flew Over the Cuckoo's Nest (1975)\",\n",
       "       'James and the Giant Peach (1996)', 'My Fair Lady (1964)', ...,\n",
       "       'Far and Away (1992)', 'Texas Chainsaw Massacre, The (1974)',\n",
       "       'Contact (1997)'], dtype='<U75')"
      ]
     },
     "execution_count": 4,
     "metadata": {},
     "output_type": "execute_result"
    }
   ],
   "source": [
    "archive_title_npz[\"titles\"]"
   ]
  },
  {
   "cell_type": "code",
   "execution_count": 5,
   "metadata": {},
   "outputs": [
    {
     "data": {
      "text/plain": [
       "['format', 'shape', 'data', 'row', 'col']"
      ]
     },
     "execution_count": 5,
     "metadata": {},
     "output_type": "execute_result"
    }
   ],
   "source": [
    "archive_movie_npz.files"
   ]
  },
  {
   "cell_type": "code",
   "execution_count": 6,
   "metadata": {},
   "outputs": [
    {
     "name": "stdout",
     "output_type": "stream",
     "text": [
      "['__abstractmethods__', '__class__', '__class_getitem__', '__contains__', '__del__', '__delattr__', '__dict__', '__dir__', '__doc__', '__enter__', '__eq__', '__exit__', '__format__', '__ge__', '__getattribute__', '__getitem__', '__gt__', '__hash__', '__init__', '__init_subclass__', '__iter__', '__le__', '__len__', '__lt__', '__module__', '__ne__', '__new__', '__reduce__', '__reduce_ex__', '__repr__', '__reversed__', '__setattr__', '__sizeof__', '__slots__', '__str__', '__subclasshook__', '__weakref__', '_abc_impl', '_files', 'allow_pickle', 'close', 'f', 'fid', 'files', 'get', 'items', 'iteritems', 'iterkeys', 'keys', 'pickle_kwargs', 'values', 'zip']\n"
     ]
    }
   ],
   "source": [
    "print(dir(archive_movie_npz))"
   ]
  },
  {
   "cell_type": "code",
   "execution_count": 7,
   "metadata": {},
   "outputs": [
    {
     "name": "stdout",
     "output_type": "stream",
     "text": [
      "(1000209,)\n",
      "[6040 3706]\n",
      "[   0    0    0 ... 6039 6039 6039]\n",
      "[   0   47  144 ... 3493 3508 3575]\n"
     ]
    }
   ],
   "source": [
    "print(archive_movie_npz[\"data\"].shape)\n",
    "archive_movie_npz[\"row\"].max()\n",
    "#archive_movie_npz[\"col\"].shape\n",
    "print(archive_movie_npz[\"shape\"])\n",
    "print(archive_movie_npz[\"row\"])\n",
    "print(archive_movie_npz[\"col\"])"
   ]
  },
  {
   "cell_type": "code",
   "execution_count": 8,
   "metadata": {},
   "outputs": [
    {
     "data": {
      "text/plain": [
       "(3706,)"
      ]
     },
     "execution_count": 8,
     "metadata": {},
     "output_type": "execute_result"
    }
   ],
   "source": [
    "archive_title_npz[\"titles\"].shape"
   ]
  },
  {
   "cell_type": "code",
   "execution_count": 9,
   "metadata": {},
   "outputs": [
    {
     "data": {
      "text/plain": [
       "array([6040, 3706])"
      ]
     },
     "execution_count": 9,
     "metadata": {},
     "output_type": "execute_result"
    }
   ],
   "source": [
    "archive_movie_npz[\"shape\"]"
   ]
  },
  {
   "cell_type": "code",
   "execution_count": 10,
   "metadata": {},
   "outputs": [
    {
     "data": {
      "text/plain": [
       "1000209"
      ]
     },
     "execution_count": 10,
     "metadata": {},
     "output_type": "execute_result"
    }
   ],
   "source": [
    "len(archive_movie_npz[\"data\"])"
   ]
  },
  {
   "cell_type": "code",
   "execution_count": 13,
   "metadata": {},
   "outputs": [],
   "source": [
    "\n",
    "# create matrix of users and movies\n",
    "matrix = coo_matrix((archive_movie_npz[\"data\"], (archive_movie_npz[\"row\"], archive_movie_npz[\"col\"])))\n",
    "matrix = matrix.toarray()\n",
    "\n",
    "# perform SVD on the matrix\n",
    "U, s, Vt = svd(matrix)\n",
    "U=U[:,:51]\n",
    "S=np.diag(s[:51])\n",
    "Vt=Vt[:51,:]\n",
    "\n",
    "# reconstruct the original matrix\n",
    "matrix_reconstructed = np.dot(np.dot(U, S), Vt)\n",
    "   "
   ]
  },
  {
   "cell_type": "code",
   "execution_count": 14,
   "metadata": {},
   "outputs": [
    {
     "data": {
      "text/plain": [
       "[{'user_id': 1,\n",
       "  'movies': [{'title': 'Men in Black (1997)', 'predicted_rating': 3.385721},\n",
       "   {'title': 'Philadelphia (1993)', 'predicted_rating': 3.0277863},\n",
       "   {'title': 'Splash (1984)', 'predicted_rating': 2.7904305},\n",
       "   {'title': 'Thing From Another World, The (1951)',\n",
       "    'predicted_rating': 2.6542416},\n",
       "   {'title': 'Die Hard 2 (1990)', 'predicted_rating': 2.6136901}]},\n",
       " {'user_id': 2,\n",
       "  'movies': [{'title': 'Raiders of the Lost Ark (1981)',\n",
       "    'predicted_rating': 1.9745914},\n",
       "   {'title': 'Daylight (1996)', 'predicted_rating': 1.9619726},\n",
       "   {'title': 'Final Conflict, The (a.k.a. Omen III: The Final Conflict) (1981)',\n",
       "    'predicted_rating': 1.9602987},\n",
       "   {'title': 'Princess Bride, The (1987)', 'predicted_rating': 1.9274876},\n",
       "   {'title': \"One Flew Over the Cuckoo's Nest (1975)\",\n",
       "    'predicted_rating': 1.8797325}]},\n",
       " {'user_id': 3,\n",
       "  'movies': [{'title': 'Happiest Millionaire, The (1967)',\n",
       "    'predicted_rating': 2.1547785},\n",
       "   {'title': \"On Her Majesty's Secret Service (1969)\",\n",
       "    'predicted_rating': 2.1332273},\n",
       "   {'title': 'Payback (1999)', 'predicted_rating': 1.8354394},\n",
       "   {'title': 'Face/Off (1997)', 'predicted_rating': 1.6113526},\n",
       "   {'title': 'Blair Witch Project, The (1999)',\n",
       "    'predicted_rating': 1.5806286}]}]"
      ]
     },
     "execution_count": 14,
     "metadata": {},
     "output_type": "execute_result"
    }
   ],
   "source": [
    "def predict_users(user_ids):\n",
    "    recommended_movies = []\n",
    "    for user_id in user_ids:\n",
    "        user_ratings = matrix_reconstructed[user_id, :]\n",
    "        predicted_ratings = U[user_id] @ S @ Vt\n",
    "\n",
    "        # find unrated movies and recommend the top-rated ones\n",
    "        rated_movies = matrix[user_id, :].nonzero()[0]\n",
    "        unrated_movies = np.setdiff1d(np.arange(matrix.shape[1]), rated_movies)\n",
    "        sorted_indexes = np.argsort(predicted_ratings[unrated_movies])[::-1]\n",
    "        top_movies = unrated_movies[sorted_indexes][:5]\n",
    "\n",
    "        # add the recommended movies to the list\n",
    "        recommended_movies.append({\n",
    "            'user_id': user_id,\n",
    "            'movies': [\n",
    "                {\n",
    "                    'title': archive_title_npz[\"titles\"][movie_id],\n",
    "                    'predicted_rating': predicted_ratings[movie_id]\n",
    "                }\n",
    "                for movie_id in top_movies\n",
    "            ]\n",
    "        })\n",
    "\n",
    "    return recommended_movies\n",
    "predict_users([1,2,3])\n",
    "\n"
   ]
  }
 ],
 "metadata": {
  "kernelspec": {
   "display_name": "base",
   "language": "python",
   "name": "python3"
  },
  "language_info": {
   "codemirror_mode": {
    "name": "ipython",
    "version": 3
   },
   "file_extension": ".py",
   "mimetype": "text/x-python",
   "name": "python",
   "nbconvert_exporter": "python",
   "pygments_lexer": "ipython3",
   "version": "3.9.13"
  },
  "orig_nbformat": 4,
  "vscode": {
   "interpreter": {
    "hash": "eabfd7d19aaf8c028d2e706059a933caf1b2347856756c8557b9aeb79deceee2"
   }
  }
 },
 "nbformat": 4,
 "nbformat_minor": 2
}
