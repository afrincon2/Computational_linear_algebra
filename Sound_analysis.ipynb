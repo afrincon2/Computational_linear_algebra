{
 "cells": [
  {
   "cell_type": "code",
   "execution_count": null,
   "metadata": {},
   "outputs": [],
   "source": [
    "import numpy as np \n",
    "from scipy.fft import dct \n",
    "from scipy.linalg import svd"
   ]
  },
  {
   "cell_type": "code",
   "execution_count": null,
   "metadata": {},
   "outputs": [],
   "source": [
    "from pydub import AudioSegment \n",
    "run_path=\"C:/Users/afrincon/OneDrive - Asesoftware S.A.S/Documentos/computational_linear_algebra/Computational_linear_algebra\"\n",
    "audio = AudioSegment.from_mp3(\"path/to/file.mp3\")\n",
    "data = np.array(audio.get_array_of_samples())"
   ]
  },
  {
   "cell_type": "code",
   "execution_count": null,
   "metadata": {},
   "outputs": [],
   "source": [
    "window = np.hamming(len(data)) \n",
    "data = data * window"
   ]
  },
  {
   "cell_type": "code",
   "execution_count": null,
   "metadata": {},
   "outputs": [],
   "source": [
    "dct_data = dct(data, norm=\"ortho\")"
   ]
  },
  {
   "cell_type": "code",
   "execution_count": null,
   "metadata": {},
   "outputs": [],
   "source": [
    "U, s, V = svd(dct_data, full_matrices=False)"
   ]
  },
  {
   "cell_type": "code",
   "execution_count": null,
   "metadata": {},
   "outputs": [],
   "source": [
    "k = 1000 # number of singular values to keep s = s[:k]"
   ]
  },
  {
   "cell_type": "code",
   "execution_count": null,
   "metadata": {},
   "outputs": [],
   "source": [
    "dct_data_reconstructed = np.dot(U[:,:k], np.dot(np.diag(s), V[:k,:]))"
   ]
  },
  {
   "cell_type": "code",
   "execution_count": null,
   "metadata": {},
   "outputs": [],
   "source": [
    "data_reconstructed = dct(dct_data_reconstructed, norm=\"ortho\", type=3)"
   ]
  },
  {
   "cell_type": "code",
   "execution_count": null,
   "metadata": {},
   "outputs": [],
   "source": [
    "audio_reconstructed = AudioSegment( data=data_reconstructed.astype(np.int16), sample_width=audio.sample_width, frame_rate=audio.frame_rate, channels=audio.channels ) audio_reconstructed.export(\"path/to/reconstructed/file.mp3\", format=\"mp3\")"
   ]
  }
 ],
 "metadata": {
  "kernelspec": {
   "display_name": "Python 3",
   "language": "python",
   "name": "python3"
  },
  "language_info": {
   "name": "python",
   "version": "3.9.13"
  },
  "orig_nbformat": 4,
  "vscode": {
   "interpreter": {
    "hash": "5ddffc6228e7fe7cba668577e622f89d9d26445fd2ef8028a1d4f8d9a92670f1"
   }
  }
 },
 "nbformat": 4,
 "nbformat_minor": 2
}
