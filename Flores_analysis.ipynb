{
 "cells": [
  {
   "cell_type": "code",
   "execution_count": null,
   "metadata": {},
   "outputs": [],
   "source": []
  },
  {
   "cell_type": "markdown",
   "metadata": {},
   "source": []
  },
  {
   "cell_type": "code",
   "execution_count": 8,
   "metadata": {},
   "outputs": [],
   "source": [
    "import os\n",
    "from PIL import Image\n",
    "import pandas as pd"
   ]
  },
  {
   "attachments": {},
   "cell_type": "markdown",
   "metadata": {},
   "source": []
  },
  {
   "cell_type": "code",
   "execution_count": 5,
   "metadata": {},
   "outputs": [],
   "source": [
    "def load_image(path):\n",
    "    img = image.load_img(path, target_size=model.input_shape[1:3])\n",
    "    x = image.img_to_array(img)\n",
    "    x = np.expand_dims(x, axis=0)\n",
    "    x = preprocess_input(x)\n",
    "    return img, x"
   ]
  },
  {
   "cell_type": "code",
   "execution_count": 15,
   "metadata": {},
   "outputs": [],
   "source": [
    "All_images=pd.DataFrame(columns=['Images', 'label'])\n",
    "parent_dir = '../Computational_linear_algebra/flowers/'\n",
    "for folder_name in os.listdir(parent_dir):\n",
    "    for picture in os.listdir(parent_dir+folder_name):\n",
    "        All_images.loc[len(All_images)] = [picture,folder_name]\n"
   ]
  },
  {
   "cell_type": "code",
   "execution_count": 16,
   "metadata": {},
   "outputs": [
    {
     "data": {
      "text/html": [
       "<div>\n",
       "<style scoped>\n",
       "    .dataframe tbody tr th:only-of-type {\n",
       "        vertical-align: middle;\n",
       "    }\n",
       "\n",
       "    .dataframe tbody tr th {\n",
       "        vertical-align: top;\n",
       "    }\n",
       "\n",
       "    .dataframe thead th {\n",
       "        text-align: right;\n",
       "    }\n",
       "</style>\n",
       "<table border=\"1\" class=\"dataframe\">\n",
       "  <thead>\n",
       "    <tr style=\"text-align: right;\">\n",
       "      <th></th>\n",
       "      <th>Images</th>\n",
       "      <th>label</th>\n",
       "    </tr>\n",
       "  </thead>\n",
       "  <tbody>\n",
       "    <tr>\n",
       "      <th>0</th>\n",
       "      <td>10091895024_a2ea04cda6_c.jpg</td>\n",
       "      <td>astilbe</td>\n",
       "    </tr>\n",
       "    <tr>\n",
       "      <th>1</th>\n",
       "      <td>1033455028_f0c6518ec9_c.jpg</td>\n",
       "      <td>astilbe</td>\n",
       "    </tr>\n",
       "    <tr>\n",
       "      <th>2</th>\n",
       "      <td>10373087134_927b53fb9f_c.jpg</td>\n",
       "      <td>astilbe</td>\n",
       "    </tr>\n",
       "    <tr>\n",
       "      <th>3</th>\n",
       "      <td>1052212431_4963309d03_c.jpg</td>\n",
       "      <td>astilbe</td>\n",
       "    </tr>\n",
       "    <tr>\n",
       "      <th>4</th>\n",
       "      <td>1052219251_d03970e956_c.jpg</td>\n",
       "      <td>astilbe</td>\n",
       "    </tr>\n",
       "    <tr>\n",
       "      <th>...</th>\n",
       "      <td>...</td>\n",
       "      <td>...</td>\n",
       "    </tr>\n",
       "    <tr>\n",
       "      <th>15735</th>\n",
       "      <td>9307395870_88e2c9d602_c.jpg</td>\n",
       "      <td>water_lily</td>\n",
       "    </tr>\n",
       "    <tr>\n",
       "      <th>15736</th>\n",
       "      <td>9381365165_1e4c66a1a9_c.jpg</td>\n",
       "      <td>water_lily</td>\n",
       "    </tr>\n",
       "    <tr>\n",
       "      <th>15737</th>\n",
       "      <td>9388505036_f567902ea1_c.jpg</td>\n",
       "      <td>water_lily</td>\n",
       "    </tr>\n",
       "    <tr>\n",
       "      <th>15738</th>\n",
       "      <td>9486809877_b11f0b7046_c.jpg</td>\n",
       "      <td>water_lily</td>\n",
       "    </tr>\n",
       "    <tr>\n",
       "      <th>15739</th>\n",
       "      <td>9567107261_1cf89d8b9a_c.jpg</td>\n",
       "      <td>water_lily</td>\n",
       "    </tr>\n",
       "  </tbody>\n",
       "</table>\n",
       "<p>15740 rows × 2 columns</p>\n",
       "</div>"
      ],
      "text/plain": [
       "                             Images       label\n",
       "0      10091895024_a2ea04cda6_c.jpg     astilbe\n",
       "1       1033455028_f0c6518ec9_c.jpg     astilbe\n",
       "2      10373087134_927b53fb9f_c.jpg     astilbe\n",
       "3       1052212431_4963309d03_c.jpg     astilbe\n",
       "4       1052219251_d03970e956_c.jpg     astilbe\n",
       "...                             ...         ...\n",
       "15735   9307395870_88e2c9d602_c.jpg  water_lily\n",
       "15736   9381365165_1e4c66a1a9_c.jpg  water_lily\n",
       "15737   9388505036_f567902ea1_c.jpg  water_lily\n",
       "15738   9486809877_b11f0b7046_c.jpg  water_lily\n",
       "15739   9567107261_1cf89d8b9a_c.jpg  water_lily\n",
       "\n",
       "[15740 rows x 2 columns]"
      ]
     },
     "execution_count": 16,
     "metadata": {},
     "output_type": "execute_result"
    }
   ],
   "source": [
    "All_images\n",
    "    "
   ]
  }
 ],
 "metadata": {
  "kernelspec": {
   "display_name": "base",
   "language": "python",
   "name": "python3"
  },
  "language_info": {
   "codemirror_mode": {
    "name": "ipython",
    "version": 3
   },
   "file_extension": ".py",
   "mimetype": "text/x-python",
   "name": "python",
   "nbconvert_exporter": "python",
   "pygments_lexer": "ipython3",
   "version": "3.9.13"
  },
  "orig_nbformat": 4,
  "vscode": {
   "interpreter": {
    "hash": "eabfd7d19aaf8c028d2e706059a933caf1b2347856756c8557b9aeb79deceee2"
   }
  }
 },
 "nbformat": 4,
 "nbformat_minor": 2
}
